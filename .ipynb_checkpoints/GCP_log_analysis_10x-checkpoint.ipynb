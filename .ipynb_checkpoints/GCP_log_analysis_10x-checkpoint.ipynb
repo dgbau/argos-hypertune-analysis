{
 "cells": [
  {
   "cell_type": "code",
   "execution_count": 1,
   "metadata": {},
   "outputs": [],
   "source": [
    "import pandas as pd\n",
    "import os\n",
    "import csv\n",
    "import matplotlib.pyplot as plt"
   ]
  },
  {
   "cell_type": "code",
   "execution_count": 2,
   "metadata": {},
   "outputs": [],
   "source": [
    "filenames = [f for f in os.listdir('./run_1_logs') if f[-3:] == 'csv']\n"
   ]
  },
  {
   "cell_type": "code",
   "execution_count": 3,
   "metadata": {},
   "outputs": [
    {
     "data": {
      "text/plain": [
       "'/Users/everyday/UNM/CS_Moses/gcp_data_analysis'"
      ]
     },
     "execution_count": 3,
     "metadata": {},
     "output_type": "execute_result"
    }
   ],
   "source": [
    "os.getcwd()"
   ]
  },
  {
   "cell_type": "code",
   "execution_count": 30,
   "metadata": {},
   "outputs": [],
   "source": [
    "# df = pd.DataFrame(columns=['trialId', \n",
    "#                            'rateOfLayingPheromone', \n",
    "#                            'probabilityOfSwitchingToSearching',\n",
    "#                            'probabilityOfReturningToNest',\n",
    "#                            'rateOfInformedSearchDecay',\n",
    "#                            'rateOfSiteFidelity',\n",
    "#                            'rateOfPheromoneDecay',\n",
    "#                            'uninformedSearchVariation',\n",
    "#                            'foodDistribution',\n",
    "#                            'fitnessScore'\n",
    "#                           ])\n",
    "df = pd.DataFrame()\n"
   ]
  },
  {
   "cell_type": "code",
   "execution_count": 33,
   "metadata": {},
   "outputs": [
    {
     "name": "stdout",
     "output_type": "stream",
     "text": [
      ">>>>>>>>>>>>>>>>>>>>>>>>>>>>>>>>>>> TRIAL 1 - 339\n",
      "Fitness Score ----> 0.7375\n",
      "RateOfLayingPheromone -> 4.45584856198\n",
      "ProbabilityOfSwitchingToSearching -> 0.269269120446\n",
      "ProbabilityOfReturningToNest -> 0.00015557424394\n",
      "RateOfInformedSearchDecay -> 148.276801694\n",
      "RateOfSiteFidelity -> 4.22456175887\n",
      "RateOfPheromoneDecay -> 17939.0719958\n",
      "UninformedSearchVariation -> 3.46700212709\n",
      "FOODS ['1', '2', '2', '2', '0', '0', '1', '2', '0', '0']\n"
     ]
    },
    {
     "ename": "TypeError",
     "evalue": "Can only append a Series if ignore_index=True or if the Series has a name",
     "output_type": "error",
     "traceback": [
      "\u001b[0;31m---------------------------------------------------------------------------\u001b[0m",
      "\u001b[0;31mTypeError\u001b[0m                                 Traceback (most recent call last)",
      "\u001b[0;32m<ipython-input-33-39f52a4881c1>\u001b[0m in \u001b[0;36m<module>\u001b[0;34m()\u001b[0m\n\u001b[1;32m     63\u001b[0m                   \u001b[0;34m'uninformedSearchVariation'\u001b[0m\u001b[0;34m:\u001b[0m \u001b[0muninformedSearchVariation\u001b[0m\u001b[0;34m,\u001b[0m\u001b[0;34m\u001b[0m\u001b[0m\n\u001b[1;32m     64\u001b[0m                   \u001b[0;34m'foodDistribution'\u001b[0m\u001b[0;34m:\u001b[0m \u001b[0mfoodDistribution\u001b[0m\u001b[0;34m,\u001b[0m\u001b[0;34m\u001b[0m\u001b[0m\n\u001b[0;32m---> 65\u001b[0;31m                   'fitnessScore': fitnessScore})\n\u001b[0m\u001b[1;32m     66\u001b[0m \u001b[0;34m\u001b[0m\u001b[0m\n\u001b[1;32m     67\u001b[0m \u001b[0;34m\u001b[0m\u001b[0m\n",
      "\u001b[0;32m/usr/local/anaconda3/lib/python3.6/site-packages/pandas/core/frame.py\u001b[0m in \u001b[0;36mappend\u001b[0;34m(self, other, ignore_index, verify_integrity)\u001b[0m\n\u001b[1;32m   5162\u001b[0m                 \u001b[0mother\u001b[0m \u001b[0;34m=\u001b[0m \u001b[0mSeries\u001b[0m\u001b[0;34m(\u001b[0m\u001b[0mother\u001b[0m\u001b[0;34m)\u001b[0m\u001b[0;34m\u001b[0m\u001b[0m\n\u001b[1;32m   5163\u001b[0m             \u001b[0;32mif\u001b[0m \u001b[0mother\u001b[0m\u001b[0;34m.\u001b[0m\u001b[0mname\u001b[0m \u001b[0;32mis\u001b[0m \u001b[0;32mNone\u001b[0m \u001b[0;32mand\u001b[0m \u001b[0;32mnot\u001b[0m \u001b[0mignore_index\u001b[0m\u001b[0;34m:\u001b[0m\u001b[0;34m\u001b[0m\u001b[0m\n\u001b[0;32m-> 5164\u001b[0;31m                 raise TypeError('Can only append a Series if ignore_index=True'\n\u001b[0m\u001b[1;32m   5165\u001b[0m                                 ' or if the Series has a name')\n\u001b[1;32m   5166\u001b[0m \u001b[0;34m\u001b[0m\u001b[0m\n",
      "\u001b[0;31mTypeError\u001b[0m: Can only append a Series if ignore_index=True or if the Series has a name"
     ]
    }
   ],
   "source": [
    "trialcount = 0;\n",
    "for file in filenames:\n",
    "    with open(os.path.join('./run_1_logs', file)) as csv_file:\n",
    "        csvreader = csv.DictReader(csv_file)        \n",
    "        trialcount += 1\n",
    "        currentTrial = None\n",
    "        rateOfLayingPheromone = None\n",
    "        probabilityOfSwitchingToSearching = None\n",
    "        probabilityOfReturningToNest = None\n",
    "        rateOfInformedSearchDecay = None\n",
    "        rateOfSiteFidelity = None\n",
    "        rateOfPheromoneDecay = None\n",
    "        uninformedSearchVariation = None\n",
    "        foodDistribution = []\n",
    "        fitnessScore = None\n",
    "        \n",
    "        for row in csvreader:\n",
    "            current_trial = row['labels.\"ml.googleapis.com/trial_id\"']\n",
    "            message = row['jsonPayload.message'].strip()\n",
    "            if (currentTrial is None):\n",
    "                currentTrial = row['labels.\"ml.googleapis.com/trial_id\"']\n",
    "                print(\">>>>>>>>>>>>>>>>>>>>>>>>>>>>>>>>>>> TRIAL {} - {}\".format(trialcount, current_trial))\n",
    "            if ('RateOfLayingPheromone' in message and rateOfLayingPheromone is None):\n",
    "                rateOfLayingPheromone = message.split()[1]\n",
    "                print('RateOfLayingPheromone ->', rateOfLayingPheromone)\n",
    "            if ('ProbabilityOfSwitchingToSearching' in message and probabilityOfSwitchingToSearching is None):\n",
    "                probabilityOfSwitchingToSearching = message.split()[1]\n",
    "                print('ProbabilityOfSwitchingToSearching ->', probabilityOfSwitchingToSearching)\n",
    "            if ('ProbabilityOfReturningToNest' in message and probabilityOfReturningToNest is None):\n",
    "                probabilityOfReturningToNest = message.split()[1]\n",
    "                print('ProbabilityOfReturningToNest ->', probabilityOfReturningToNest)\n",
    "            if ('RateOfInformedSearchDecay' in message and rateOfInformedSearchDecay is None):\n",
    "                rateOfInformedSearchDecay = message.split()[1]\n",
    "                print('RateOfInformedSearchDecay ->', rateOfInformedSearchDecay)\n",
    "            if ('RateOfSiteFidelity' in message and rateOfSiteFidelity is None):\n",
    "                rateOfSiteFidelity = message.split()[1]\n",
    "                print('RateOfSiteFidelity ->', rateOfSiteFidelity)\n",
    "            if ('RateOfPheromoneDecay' in message and rateOfPheromoneDecay is None):\n",
    "                rateOfPheromoneDecay = message.split()[1]\n",
    "                print('RateOfPheromoneDecay ->', rateOfPheromoneDecay)\n",
    "            if ('UninformedSearchVariation' in message and uninformedSearchVariation is None):\n",
    "                uninformedSearchVariation = message.split()[1]\n",
    "                print('UninformedSearchVariation ->', uninformedSearchVariation)\n",
    "            if ('food distribution' in message and 'randomizing' not in message):\n",
    "                pass\n",
    "#                 print('food distribution ->', message.split()[2])\n",
    "            if ('food distribution' in message and 'randomizing' not in message):\n",
    "                foodDistribution.append(message.split()[2])\n",
    "#                 print('foodDistribution ->', message.split()[2])\n",
    "            if ('Fitness Score' in message):\n",
    "                fitnessScore = message.split()[3]\n",
    "                print('Fitness Score ---->', fitnessScore)\n",
    "            if (len(foodDistribution) == 10):\n",
    "                print('FOODS', foodDistribution)\n",
    "                break\n",
    "        df.append({'currentTrial': currentTrial,\n",
    "                  'rateOfLayingPheromone': rateOfLayingPheromone,\n",
    "                  'probabilityOfSwitchingToSearching': probabilityOfSwitchingToSearching,\n",
    "                  'probabilityOfReturningToNest': probabilityOfReturningToNest,\n",
    "                  'rateOfInformedSearchDecay': rateOfInformedSearchDecay,\n",
    "                  'rateOfSiteFidelity': rateOfSiteFidelity,\n",
    "                  'rateOfPheromoneDecay': rateOfPheromoneDecay,\n",
    "                  'uninformedSearchVariation': uninformedSearchVariation,\n",
    "                  'foodDistribution': foodDistribution,\n",
    "                  'fitnessScore': fitnessScore}, \n",
    "                  ignore_index=True)\n",
    "            \n",
    "        \n",
    "            "
   ]
  },
  {
   "cell_type": "code",
   "execution_count": 32,
   "metadata": {},
   "outputs": [
    {
     "data": {
      "text/html": [
       "<div>\n",
       "<style scoped>\n",
       "    .dataframe tbody tr th:only-of-type {\n",
       "        vertical-align: middle;\n",
       "    }\n",
       "\n",
       "    .dataframe tbody tr th {\n",
       "        vertical-align: top;\n",
       "    }\n",
       "\n",
       "    .dataframe thead th {\n",
       "        text-align: right;\n",
       "    }\n",
       "</style>\n",
       "<table border=\"1\" class=\"dataframe\">\n",
       "  <thead>\n",
       "    <tr style=\"text-align: right;\">\n",
       "      <th></th>\n",
       "    </tr>\n",
       "  </thead>\n",
       "  <tbody>\n",
       "  </tbody>\n",
       "</table>\n",
       "</div>"
      ],
      "text/plain": [
       "Empty DataFrame\n",
       "Columns: []\n",
       "Index: []"
      ]
     },
     "execution_count": 32,
     "metadata": {},
     "output_type": "execute_result"
    }
   ],
   "source": [
    "df"
   ]
  },
  {
   "cell_type": "code",
   "execution_count": null,
   "metadata": {},
   "outputs": [],
   "source": []
  }
 ],
 "metadata": {
  "kernelspec": {
   "display_name": "Python 3",
   "language": "python",
   "name": "python3"
  },
  "language_info": {
   "codemirror_mode": {
    "name": "ipython",
    "version": 3
   },
   "file_extension": ".py",
   "mimetype": "text/x-python",
   "name": "python",
   "nbconvert_exporter": "python",
   "pygments_lexer": "ipython3",
   "version": "3.6.4"
  }
 },
 "nbformat": 4,
 "nbformat_minor": 2
}
