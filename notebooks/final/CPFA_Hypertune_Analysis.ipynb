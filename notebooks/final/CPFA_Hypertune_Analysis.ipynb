{
 "cells": [
  {
   "cell_type": "code",
   "execution_count": 2,
   "metadata": {},
   "outputs": [],
   "source": [
    "import os, csv, json\n",
    "import pandas as pd\n",
    "import matplotlib.pyplot as plt\n",
    "import numpy as np\n",
    "import matplotlib\n",
    "matplotlib.rcParams['pdf.fonttype'] = 42\n",
    "matplotlib.rcParams['ps.fonttype'] = 42"
   ]
  },
  {
   "cell_type": "markdown",
   "metadata": {},
   "source": [
    "# CPFA Hypertune Study - Final Analysis"
   ]
  },
  {
   "cell_type": "markdown",
   "metadata": {},
   "source": [
    "### Data Ingest"
   ]
  },
  {
   "cell_type": "code",
   "execution_count": 4,
   "metadata": {},
   "outputs": [
    {
     "data": {
      "text/plain": [
       "['211144_dist2.json', '205406_dist0.json', '165355_dist1.json']"
      ]
     },
     "execution_count": 4,
     "metadata": {},
     "output_type": "execute_result"
    }
   ],
   "source": [
    "filenames = [f for f in os.listdir('../../data/raw') if f[-4:] == 'json']\n",
    "filenames"
   ]
  },
  {
   "cell_type": "markdown",
   "metadata": {},
   "source": [
    "###### trials to keep:\n",
    "cpfa_ht_trial_20191111_081725\n",
    "cpfa_ht_trial_20191111_080838\n",
    "cpfa_ht_trial_20191111_080831"
   ]
  },
  {
   "cell_type": "code",
   "execution_count": 13,
   "metadata": {},
   "outputs": [],
   "source": [
    "results = {}\n",
    "keeper_trials = {'cpfa_ht_trial_20200206_211144': [], \n",
    "                 'cpfa_ht_trial_20200206_205406': [], \n",
    "                 'cpfa_ht_trial_20200207_165355': []}\n",
    "\n",
    "for trial in keeper_trials:\n",
    "    for i in range(10001):\n",
    "        keeper_trials[trial].append({})\n"
   ]
  },
  {
   "cell_type": "markdown",
   "metadata": {},
   "source": [
    "sample object:\n",
    "```{\"logName\":\"projects/cpfa-hypertune/logs/master-replica-0\",\"resource\":{\"type\":\"ml_job\",\"labels\":{\"job_id\":\"cpfa_ht_trial_20191110_115124\",\"project_id\":\"cpfa-hypertune\",\"task_name\":\"master-replica-0\"}},\"jsonPayload\":{\"message\":\"food distribution 0\\n\",\"levelname\":\"INFO\"},\"timestamp\":\"2019-11-10 22:52:31.313637 UTC\",\"receiveTimestamp\":\"2019-11-10 22:52:35.761271 UTC\",\"severity\":\"INFO\",\"insertId\":\"5u96i6fa2o7si\",\"labels\":{\"compute_googleapis_com_resource_id\":\"3176392964891290663\",\"compute_googleapis_com_zone\":\"us-central1-a\",\"ml_googleapis_com_trial_id\":\"336\",\"compute_googleapis_com_resource_name\":\"cmle-training-805699422387418271\",\"ml_googleapis_com_job_id_log_area\":\"root\"}}```"
   ]
  },
  {
   "cell_type": "code",
   "execution_count": 68,
   "metadata": {},
   "outputs": [
    {
     "name": "stdout",
     "output_type": "stream",
     "text": [
      "{'insertId': 'j58il2cdxx', 'labels': {'ml.googleapis.com/endpoint': '', 'ml.googleapis.com/trial_id': '2997'}, 'logName': 'projects/cpfa-hypertune/logs/ml.googleapis.com%2Fcpfa_ht_trial_20200204_225731', 'receiveTimestamp': '2020-02-06T07:52:35.394626648Z', 'resource': {'labels': {'job_id': 'cpfa_ht_trial_20200204_225731', 'project_id': 'cpfa-hypertune', 'task_name': 'service'}, 'type': 'ml_job'}, 'severity': 'INFO', 'textPayload': 'Job completed successfully.', 'timestamp': '2020-02-06T07:52:35.026544709Z'}\n",
      "{'insertId': '17u8w2ucesf', 'labels': {'ml.googleapis.com/endpoint': '', 'ml.googleapis.com/trial_id': '3000'}, 'logName': 'projects/cpfa-hypertune/logs/ml.googleapis.com%2Fcpfa_ht_trial_20200204_225816', 'receiveTimestamp': '2020-02-06T07:42:57.645239294Z', 'resource': {'labels': {'job_id': 'cpfa_ht_trial_20200204_225816', 'project_id': 'cpfa-hypertune', 'task_name': 'service'}, 'type': 'ml_job'}, 'severity': 'INFO', 'textPayload': 'Job completed successfully.', 'timestamp': '2020-02-06T07:42:56.836011354Z'}\n",
      "{'insertId': '14icwi9cfav', 'labels': {'ml.googleapis.com/endpoint': '', 'ml.googleapis.com/trial_id': '3000'}, 'logName': 'projects/cpfa-hypertune/logs/ml.googleapis.com%2Fcpfa_ht_trial_20200204_231943', 'receiveTimestamp': '2020-02-06T07:49:24.056756183Z', 'resource': {'labels': {'job_id': 'cpfa_ht_trial_20200204_231943', 'project_id': 'cpfa-hypertune', 'task_name': 'service'}, 'type': 'ml_job'}, 'severity': 'INFO', 'textPayload': 'Job completed successfully.', 'timestamp': '2020-02-06T07:49:23.151458304Z'}\n"
     ]
    }
   ],
   "source": [
    "trialcount = 0;\n",
    "rowsList = []\n",
    "trials = []\n",
    "for file in filenames:\n",
    "    with open(os.path.join('../../data/raw', file)) as json_file:\n",
    "        thefile = json.load(json_file)\n",
    "        print(thefile[0])\n",
    "        for i, line in enumerate(json_file):\n",
    "            x = json.loads(line)\n",
    "            print(x)\n",
    "            job_id = x['resource']['labels']['job_id']\n",
    "            trialId = int(x['labels']['ml.googleapis.com/trial_id'])\n",
    "            message = x['jsonPayload']['message']\n",
    "            if job_id in keeper_trials:\n",
    "                if 'trialId' not in keeper_trials[job_id][trialId]:\n",
    "                    keeper_trials[job_id][trialId]['trialId'] = trialId\n",
    "                if 'Fitness Score' in message:\n",
    "                    keeper_trials[job_id][trialId]['fitnessScore'] = float(message.split()[3])\n",
    "                if 'foodDist' not in keeper_trials[job_id][trialId] and 'food' in message:\n",
    "                    keeper_trials[job_id][trialId]['foodDist'] = float(message.split()[2])\n",
    "                if 'Fitness' in message:\n",
    "                    keeper_trials[job_id][trialId]['fitness'] = float(message.split()[3])\n",
    "                if 'RateOfLayingPheromone' in message:\n",
    "                    keeper_trials[job_id][trialId]['RateOfLayingPheromone'] = float(message.split()[1])\n",
    "                if 'ProbabilityOfSwitchingToSearching' in message:\n",
    "                    keeper_trials[job_id][trialId]['ProbabilityOfSwitchingToSearching'] = float(message.split()[1])\n",
    "                if 'ProbabilityOfReturningToNest' in message:\n",
    "                    keeper_trials[job_id][trialId]['ProbabilityOfReturningToNest'] = float(message.split()[1])\n",
    "                if 'RateOfInformedSearchDecay' in message:\n",
    "                    keeper_trials[job_id][trialId]['RateOfInformedSearchDecay'] = float(message.split()[1])\n",
    "                if ('RateOfSiteFidelity' in message):\n",
    "                    keeper_trials[job_id][trialId]['RateOfSiteFidelity'] = float(message.split()[1])\n",
    "                if ('RateOfPheromoneDecay' in message):\n",
    "                    keeper_trials[job_id][trialId]['RateOfPheromoneDecay'] = float(message.split()[1])\n",
    "                if ('UninformedSearchVariation' in message):\n",
    "                    keeper_trials[job_id][trialId]['UninformedSearchVariation'] = float(message.split()[1])\n",
    "            else:\n",
    "                pass"
   ]
  },
  {
   "cell_type": "code",
   "execution_count": 15,
   "metadata": {},
   "outputs": [],
   "source": [
    "trialcount = 0;\n",
    "rowsList = []\n",
    "trials = []\n",
    "for file in filenames:\n",
    "    with open(os.path.join('../../data/raw', file)) as json_file:\n",
    "        thefile = json.load(json_file)\n",
    "        for i, line in enumerate(thefile):\n",
    "            job_id = line['resource']['labels']['job_id']\n",
    "            trialId = int(line['labels']['ml.googleapis.com/trial_id']) if 'ml.googleapis.com/trial_id' in line['labels'] else -1\n",
    "            message = line['jsonPayload']['message'] if 'jsonPayload' in line else 'no message'\n",
    "            if job_id in keeper_trials and 'jsonPayload' in line:\n",
    "                if 'trialId' not in keeper_trials[job_id][trialId]:\n",
    "                    keeper_trials[job_id][trialId]['trialId'] = trialId\n",
    "                if 'Fitness Score' in message:\n",
    "                    keeper_trials[job_id][trialId]['fitnessScore'] = float(message.split()[3])\n",
    "                if 'foodDist' not in keeper_trials[job_id][trialId] and 'food' in message:\n",
    "                    keeper_trials[job_id][trialId]['foodDist'] = float(message.split()[2])\n",
    "                if 'Fitness' in message:\n",
    "                    keeper_trials[job_id][trialId]['fitness'] = float(message.split()[3])\n",
    "                if 'RateOfLayingPheromone' in message:\n",
    "                    keeper_trials[job_id][trialId]['RateOfLayingPheromone'] = float(message.split()[1])\n",
    "                if 'ProbabilityOfSwitchingToSearching' in message:\n",
    "                    keeper_trials[job_id][trialId]['ProbabilityOfSwitchingToSearching'] = float(message.split()[1])\n",
    "                if 'ProbabilityOfReturningToNest' in message:\n",
    "                    keeper_trials[job_id][trialId]['ProbabilityOfReturningToNest'] = float(message.split()[1])\n",
    "                if 'RateOfInformedSearchDecay' in message:\n",
    "                    keeper_trials[job_id][trialId]['RateOfInformedSearchDecay'] = float(message.split()[1])\n",
    "                if ('RateOfSiteFidelity' in message):\n",
    "                    keeper_trials[job_id][trialId]['RateOfSiteFidelity'] = float(message.split()[1])\n",
    "                if ('RateOfPheromoneDecay' in message):\n",
    "                    keeper_trials[job_id][trialId]['RateOfPheromoneDecay'] = float(message.split()[1])\n",
    "                if ('UninformedSearchVariation' in message):\n",
    "                    keeper_trials[job_id][trialId]['UninformedSearchVariation'] = float(message.split()[1])\n",
    "            else:\n",
    "                pass"
   ]
  },
  {
   "cell_type": "markdown",
   "metadata": {},
   "source": [
    "### Write trials to CSV"
   ]
  },
  {
   "cell_type": "code",
   "execution_count": 16,
   "metadata": {},
   "outputs": [
    {
     "name": "stdout",
     "output_type": "stream",
     "text": [
      "9917\n",
      "9968\n",
      "9910\n"
     ]
    }
   ],
   "source": [
    "for trial in keeper_trials:\n",
    "    df = pd.DataFrame(keeper_trials[trial])\n",
    "    print(len(df.dropna()))\n",
    "    df.dropna().sort_values(by=['fitnessScore'], ascending=True).to_csv('{}.csv'.format(trial))"
   ]
  },
  {
   "cell_type": "markdown",
   "metadata": {},
   "source": [
    "### Analysis"
   ]
  },
  {
   "cell_type": "code",
   "execution_count": 18,
   "metadata": {},
   "outputs": [],
   "source": [
    "df2 = pd.read_csv(\"../../data/parsed/d1_cpfa_ht_trial_20200207_165355.csv\", skipinitialspace=True)\n",
    "df2\n",
    "# df2.to_json('../../data/parsed/Export_DataFrame.json', orient='records')\n",
    "df2.drop(['fitness', 'Unnamed: 0'], axis=1).to_json('../../data/parsed/d1_cpfa_ht_trial_20200207_165355.json', orient='records')"
   ]
  },
  {
   "cell_type": "code",
   "execution_count": 95,
   "metadata": {},
   "outputs": [],
   "source": [
    "df = pd.read_csv('../../data/parsed/docker_output_all.csv', skipinitialspace=True)"
   ]
  },
  {
   "cell_type": "code",
   "execution_count": 97,
   "metadata": {},
   "outputs": [],
   "source": [
    "trial_ga_d0 = df[(df['method'] == 'ga') & (df['dist'] == 0)]['score']\n",
    "trial_ga_d1 = df[(df['method'] == 'ga') & (df['dist'] == 1)]['score']\n",
    "trial_ga_d2 = df[(df['method'] == 'ga') & (df['dist'] == 2)]['score']\n",
    "\n",
    "trial_ht_d0 = df[(df['method'] == 'ht') & (df['dist'] == 0)]['score']\n",
    "trial_ht_d1 = df[(df['method'] == 'ht') & (df['dist'] == 1)]['score']\n",
    "trial_ht_d2 = df[(df['method'] == 'ht') & (df['dist'] == 2)]['score']"
   ]
  },
  {
   "cell_type": "code",
   "execution_count": 109,
   "metadata": {},
   "outputs": [
    {
     "data": {
      "text/plain": [
       "<matplotlib.legend.Legend at 0x1367d5c10>"
      ]
     },
     "execution_count": 109,
     "metadata": {},
     "output_type": "execute_result"
    },
    {
     "data": {
      "image/png": "[encoded data removed]",
      "text/plain": [
       "<Figure size 432x288 with 1 Axes>"
      ]
     },
     "metadata": {
      "needs_background": "light"
     },
     "output_type": "display_data"
    }
   ],
   "source": [
    "fig1, ax1 = plt.subplots(nrows=1, ncols=1, figsize=(6, 4))\n",
    "# fig, axes = plt.subplots(nrows=1, ncols=2, figsize=(9, 4))\n",
    "meanlineprops = dict(linewidth=1, color='red')\n",
    "box_colors = ['darkkhaki', 'royalblue']\n",
    "ax1.set_title('Genetic Algoritm (GA) vs Hypertune (HT)', fontweight='bold',)\n",
    "plt.xlabel('Distribution',  fontsize=12, labelpad=10,)\n",
    "plt.ylabel('Fitness Score', fontsize=12)\n",
    "boxplots = ax1.boxplot([trial_ga_d0, trial_ht_d0, trial_ga_d1, trial_ht_d1, trial_ga_d2, trial_ht_d2], \n",
    "                       patch_artist=True, notch=True, medianprops=meanlineprops)\n",
    "ax1.set_xticklabels(np.repeat([\"   Uniform\", \"\", \"    Cluster\", \"\", \"Power Law\", \"\"], 1),fontsize=10, ha=\"left\")\n",
    "\n",
    "colors = ['peachpuff', 'palegreen']\n",
    "\n",
    "\n",
    "\n",
    "# for patch, color in zip(axes['boxes'], colors):\n",
    "for index, patch in enumerate(boxplots['boxes']):\n",
    "    patch.set_label('hi')\n",
    "    patch.set_facecolor(colors[index % 2])\n",
    "\n",
    "ax1.legend([boxplots[\"boxes\"][0], boxplots[\"boxes\"][1]], ['Genetic Algorithm', 'HyperTune'], loc='lower left')\n",
    "\n"
   ]
  },
  {
   "cell_type": "code",
   "execution_count": null,
   "metadata": {},
   "outputs": [],
   "source": []
  }
 ],
 "metadata": {
  "kernelspec": {
   "display_name": "Python 3",
   "language": "python",
   "name": "python3"
  },
  "language_info": {
   "codemirror_mode": {
    "name": "ipython",
    "version": 3
   },
   "file_extension": ".py",
   "mimetype": "text/x-python",
   "name": "python",
   "nbconvert_exporter": "python",
   "pygments_lexer": "ipython3",
   "version": "3.7.5"
  }
 },
 "nbformat": 4,
 "nbformat_minor": 2
}
