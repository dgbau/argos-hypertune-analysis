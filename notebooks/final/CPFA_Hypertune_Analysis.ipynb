{
 "cells": [
  {
   "cell_type": "code",
   "execution_count": 2,
   "metadata": {},
   "outputs": [],
   "source": [
    "import os, csv, json\n",
    "import pandas as pd\n",
    "import matplotlib.pyplot as plt\n",
    "import numpy as np\n",
    "import matplotlib\n",
    "matplotlib.rcParams['pdf.fonttype'] = 42\n",
    "matplotlib.rcParams['ps.fonttype'] = 42"
   ]
  },
  {
   "cell_type": "markdown",
   "metadata": {},
   "source": [
    "# CPFA Hypertune Study - Final Analysis"
   ]
  },
  {
   "cell_type": "markdown",
   "metadata": {},
   "source": [
    "### Data Ingest"
   ]
  },
  {
   "cell_type": "code",
   "execution_count": 2,
   "metadata": {},
   "outputs": [
    {
     "data": {
      "text/plain": [
       "['db_backup3.json', 'db_backup.json', 'db_backup2.json']"
      ]
     },
     "execution_count": 2,
     "metadata": {},
     "output_type": "execute_result"
    }
   ],
   "source": [
    "filenames = [f for f in os.listdir('../../data/raw') if f[-4:] == 'json']\n",
    "filenames"
   ]
  },
  {
   "cell_type": "markdown",
   "metadata": {},
   "source": [
    "###### trials to keep:\n",
    "cpfa_ht_trial_20191111_081725\n",
    "cpfa_ht_trial_20191111_080838\n",
    "cpfa_ht_trial_20191111_080831"
   ]
  },
  {
   "cell_type": "code",
   "execution_count": 3,
   "metadata": {},
   "outputs": [],
   "source": [
    "results = {}\n",
    "keeper_trials = {'cpfa_ht_trial_20191111_081725': [], \n",
    "                 'cpfa_ht_trial_20191111_080838': [], \n",
    "                 'cpfa_ht_trial_20191111_080831': []}\n",
    "\n",
    "for trial in keeper_trials:\n",
    "    for i in range(3001):\n",
    "        keeper_trials[trial].append({})"
   ]
  },
  {
   "cell_type": "markdown",
   "metadata": {},
   "source": [
    "sample object:\n",
    "```{\"logName\":\"projects/cpfa-hypertune/logs/master-replica-0\",\"resource\":{\"type\":\"ml_job\",\"labels\":{\"job_id\":\"cpfa_ht_trial_20191110_115124\",\"project_id\":\"cpfa-hypertune\",\"task_name\":\"master-replica-0\"}},\"jsonPayload\":{\"message\":\"food distribution 0\\n\",\"levelname\":\"INFO\"},\"timestamp\":\"2019-11-10 22:52:31.313637 UTC\",\"receiveTimestamp\":\"2019-11-10 22:52:35.761271 UTC\",\"severity\":\"INFO\",\"insertId\":\"5u96i6fa2o7si\",\"labels\":{\"compute_googleapis_com_resource_id\":\"3176392964891290663\",\"compute_googleapis_com_zone\":\"us-central1-a\",\"ml_googleapis_com_trial_id\":\"336\",\"compute_googleapis_com_resource_name\":\"cmle-training-805699422387418271\",\"ml_googleapis_com_job_id_log_area\":\"root\"}}```"
   ]
  },
  {
   "cell_type": "code",
   "execution_count": 4,
   "metadata": {},
   "outputs": [],
   "source": [
    "trialcount = 0;\n",
    "rowsList = []\n",
    "trials = []\n",
    "for file in filenames:\n",
    "    with open(os.path.join('../../data/raw', file)) as json_file:\n",
    "        for i, line in enumerate(json_file):\n",
    "            x = json.loads(line)\n",
    "            job_id = x['resource']['labels']['job_id']\n",
    "            trialId = int(x['labels']['ml_googleapis_com_trial_id'])\n",
    "            message = x['jsonPayload']['message']\n",
    "            if job_id in keeper_trials:\n",
    "                if 'trialId' not in keeper_trials[job_id][trialId]:\n",
    "                    keeper_trials[job_id][trialId]['trialId'] = trialId\n",
    "                if 'Fitness Score' in message:\n",
    "                    keeper_trials[job_id][trialId]['fitnessScore'] = float(message.split()[3])\n",
    "                if 'foodDist' not in keeper_trials[job_id][trialId] and 'food' in message:\n",
    "                    keeper_trials[job_id][trialId]['foodDist'] = float(message.split()[2])\n",
    "                if 'Fitness' in message:\n",
    "                    keeper_trials[job_id][trialId]['fitness'] = float(message.split()[3])\n",
    "                if 'RateOfLayingPheromone' in message:\n",
    "                    keeper_trials[job_id][trialId]['RateOfLayingPheromone'] = float(message.split()[1])\n",
    "                if 'ProbabilityOfSwitchingToSearching' in message:\n",
    "                    keeper_trials[job_id][trialId]['ProbabilityOfSwitchingToSearching'] = float(message.split()[1])\n",
    "                if 'ProbabilityOfReturningToNest' in message:\n",
    "                    keeper_trials[job_id][trialId]['ProbabilityOfReturningToNest'] = float(message.split()[1])\n",
    "                if 'RateOfInformedSearchDecay' in message:\n",
    "                    keeper_trials[job_id][trialId]['RateOfInformedSearchDecay'] = float(message.split()[1])\n",
    "                if ('RateOfSiteFidelity' in message):\n",
    "                    keeper_trials[job_id][trialId]['RateOfSiteFidelity'] = float(message.split()[1])\n",
    "                if ('RateOfPheromoneDecay' in message):\n",
    "                    keeper_trials[job_id][trialId]['RateOfPheromoneDecay'] = float(message.split()[1])\n",
    "                if ('UninformedSearchVariation' in message):\n",
    "                    keeper_trials[job_id][trialId]['UninformedSearchVariation'] = float(message.split()[1])\n",
    "            else:\n",
    "                pass"
   ]
  },
  {
   "cell_type": "markdown",
   "metadata": {},
   "source": [
    "### Write trials to CSV"
   ]
  },
  {
   "cell_type": "code",
   "execution_count": 5,
   "metadata": {},
   "outputs": [
    {
     "name": "stdout",
     "output_type": "stream",
     "text": [
      "2973\n",
      "2968\n",
      "2983\n"
     ]
    }
   ],
   "source": [
    "for trial in keeper_trials:\n",
    "    df = pd.DataFrame(keeper_trials[trial])\n",
    "    print(len(df.dropna()))\n",
    "    df.dropna().sort_values(by=['fitnessScore'], ascending=True).to_csv('{}.csv'.format(trial))"
   ]
  },
  {
   "cell_type": "code",
   "execution_count": 35,
   "metadata": {},
   "outputs": [
    {
     "data": {
      "text/html": [
       "<div>\n",
       "<style scoped>\n",
       "    .dataframe tbody tr th:only-of-type {\n",
       "        vertical-align: middle;\n",
       "    }\n",
       "\n",
       "    .dataframe tbody tr th {\n",
       "        vertical-align: top;\n",
       "    }\n",
       "\n",
       "    .dataframe thead th {\n",
       "        text-align: right;\n",
       "    }\n",
       "</style>\n",
       "<table border=\"1\" class=\"dataframe\">\n",
       "  <thead>\n",
       "    <tr style=\"text-align: right;\">\n",
       "      <th></th>\n",
       "      <th>points</th>\n",
       "      <th>score</th>\n",
       "      <th>method</th>\n",
       "      <th>dist</th>\n",
       "    </tr>\n",
       "  </thead>\n",
       "  <tbody>\n",
       "    <tr>\n",
       "      <th>180</th>\n",
       "      <td>232.0</td>\n",
       "      <td>0.906250</td>\n",
       "      <td>ht</td>\n",
       "      <td>0</td>\n",
       "    </tr>\n",
       "    <tr>\n",
       "      <th>178</th>\n",
       "      <td>230.0</td>\n",
       "      <td>0.898438</td>\n",
       "      <td>ht</td>\n",
       "      <td>0</td>\n",
       "    </tr>\n",
       "    <tr>\n",
       "      <th>185</th>\n",
       "      <td>230.0</td>\n",
       "      <td>0.898438</td>\n",
       "      <td>ht</td>\n",
       "      <td>0</td>\n",
       "    </tr>\n",
       "    <tr>\n",
       "      <th>156</th>\n",
       "      <td>229.0</td>\n",
       "      <td>0.894531</td>\n",
       "      <td>ht</td>\n",
       "      <td>0</td>\n",
       "    </tr>\n",
       "    <tr>\n",
       "      <th>174</th>\n",
       "      <td>229.0</td>\n",
       "      <td>0.894531</td>\n",
       "      <td>ht</td>\n",
       "      <td>0</td>\n",
       "    </tr>\n",
       "    <tr>\n",
       "      <th>...</th>\n",
       "      <td>...</td>\n",
       "      <td>...</td>\n",
       "      <td>...</td>\n",
       "      <td>...</td>\n",
       "    </tr>\n",
       "    <tr>\n",
       "      <th>21</th>\n",
       "      <td>208.0</td>\n",
       "      <td>0.812500</td>\n",
       "      <td>ga</td>\n",
       "      <td>0</td>\n",
       "    </tr>\n",
       "    <tr>\n",
       "      <th>27</th>\n",
       "      <td>208.0</td>\n",
       "      <td>0.812500</td>\n",
       "      <td>ga</td>\n",
       "      <td>0</td>\n",
       "    </tr>\n",
       "    <tr>\n",
       "      <th>8</th>\n",
       "      <td>206.0</td>\n",
       "      <td>0.804688</td>\n",
       "      <td>ga</td>\n",
       "      <td>0</td>\n",
       "    </tr>\n",
       "    <tr>\n",
       "      <th>45</th>\n",
       "      <td>205.0</td>\n",
       "      <td>0.800781</td>\n",
       "      <td>ga</td>\n",
       "      <td>0</td>\n",
       "    </tr>\n",
       "    <tr>\n",
       "      <th>28</th>\n",
       "      <td>204.0</td>\n",
       "      <td>0.796875</td>\n",
       "      <td>ga</td>\n",
       "      <td>0</td>\n",
       "    </tr>\n",
       "  </tbody>\n",
       "</table>\n",
       "<p>100 rows × 4 columns</p>\n",
       "</div>"
      ],
      "text/plain": [
       "     points     score method  dist\n",
       "180   232.0  0.906250     ht     0\n",
       "178   230.0  0.898438     ht     0\n",
       "185   230.0  0.898438     ht     0\n",
       "156   229.0  0.894531     ht     0\n",
       "174   229.0  0.894531     ht     0\n",
       "..      ...       ...    ...   ...\n",
       "21    208.0  0.812500     ga     0\n",
       "27    208.0  0.812500     ga     0\n",
       "8     206.0  0.804688     ga     0\n",
       "45    205.0  0.800781     ga     0\n",
       "28    204.0  0.796875     ga     0\n",
       "\n",
       "[100 rows x 4 columns]"
      ]
     },
     "execution_count": 35,
     "metadata": {},
     "output_type": "execute_result"
    }
   ],
   "source": [
    "df[df['dist'] == 0].sort_values(by=['score'], ascending=False)"
   ]
  },
  {
   "cell_type": "markdown",
   "metadata": {},
   "source": [
    "### Analysis"
   ]
  },
  {
   "cell_type": "code",
   "execution_count": 52,
   "metadata": {},
   "outputs": [],
   "source": [
    "df2 = pd.read_csv(\"../../data/parsed/cpfa_ht_trial_20191111_080838.csv\", skipinitialspace=True)\n",
    "\n",
    "# df2.to_json('../../data/parsed/Export_DataFrame.json', orient='records')\n",
    "df2.drop(['foodDist', 'fitness', 'Unnamed: 0'], axis=1).to_json('../../data/parsed/Export_DataFrame_dist0full.json', orient='records')"
   ]
  },
  {
   "cell_type": "code",
   "execution_count": 34,
   "metadata": {},
   "outputs": [],
   "source": [
    "df = pd.read_csv('../../data/parsed/docker_output_all.csv', skipinitialspace=True)"
   ]
  },
  {
   "cell_type": "code",
   "execution_count": 33,
   "metadata": {},
   "outputs": [
    {
     "data": {
      "text/html": [
       "<div>\n",
       "<style scoped>\n",
       "    .dataframe tbody tr th:only-of-type {\n",
       "        vertical-align: middle;\n",
       "    }\n",
       "\n",
       "    .dataframe tbody tr th {\n",
       "        vertical-align: top;\n",
       "    }\n",
       "\n",
       "    .dataframe thead th {\n",
       "        text-align: right;\n",
       "    }\n",
       "</style>\n",
       "<table border=\"1\" class=\"dataframe\">\n",
       "  <thead>\n",
       "    <tr style=\"text-align: right;\">\n",
       "      <th></th>\n",
       "      <th>points</th>\n",
       "      <th>score</th>\n",
       "      <th>method</th>\n",
       "      <th>dist</th>\n",
       "    </tr>\n",
       "  </thead>\n",
       "  <tbody>\n",
       "    <tr>\n",
       "      <th>100</th>\n",
       "      <td>184.0</td>\n",
       "      <td>0.718750</td>\n",
       "      <td>ga</td>\n",
       "      <td>2</td>\n",
       "    </tr>\n",
       "    <tr>\n",
       "      <th>101</th>\n",
       "      <td>184.0</td>\n",
       "      <td>0.718750</td>\n",
       "      <td>ga</td>\n",
       "      <td>2</td>\n",
       "    </tr>\n",
       "    <tr>\n",
       "      <th>102</th>\n",
       "      <td>177.0</td>\n",
       "      <td>0.691406</td>\n",
       "      <td>ga</td>\n",
       "      <td>2</td>\n",
       "    </tr>\n",
       "    <tr>\n",
       "      <th>103</th>\n",
       "      <td>189.0</td>\n",
       "      <td>0.738281</td>\n",
       "      <td>ga</td>\n",
       "      <td>2</td>\n",
       "    </tr>\n",
       "    <tr>\n",
       "      <th>104</th>\n",
       "      <td>176.0</td>\n",
       "      <td>0.687500</td>\n",
       "      <td>ga</td>\n",
       "      <td>2</td>\n",
       "    </tr>\n",
       "    <tr>\n",
       "      <th>...</th>\n",
       "      <td>...</td>\n",
       "      <td>...</td>\n",
       "      <td>...</td>\n",
       "      <td>...</td>\n",
       "    </tr>\n",
       "    <tr>\n",
       "      <th>295</th>\n",
       "      <td>192.0</td>\n",
       "      <td>0.750000</td>\n",
       "      <td>ht</td>\n",
       "      <td>2</td>\n",
       "    </tr>\n",
       "    <tr>\n",
       "      <th>296</th>\n",
       "      <td>192.0</td>\n",
       "      <td>0.750000</td>\n",
       "      <td>ht</td>\n",
       "      <td>2</td>\n",
       "    </tr>\n",
       "    <tr>\n",
       "      <th>297</th>\n",
       "      <td>189.0</td>\n",
       "      <td>0.738281</td>\n",
       "      <td>ht</td>\n",
       "      <td>2</td>\n",
       "    </tr>\n",
       "    <tr>\n",
       "      <th>298</th>\n",
       "      <td>190.0</td>\n",
       "      <td>0.742188</td>\n",
       "      <td>ht</td>\n",
       "      <td>2</td>\n",
       "    </tr>\n",
       "    <tr>\n",
       "      <th>299</th>\n",
       "      <td>191.0</td>\n",
       "      <td>0.746094</td>\n",
       "      <td>ht</td>\n",
       "      <td>2</td>\n",
       "    </tr>\n",
       "  </tbody>\n",
       "</table>\n",
       "<p>100 rows × 4 columns</p>\n",
       "</div>"
      ],
      "text/plain": [
       "     points     score method  dist\n",
       "100   184.0  0.718750     ga     2\n",
       "101   184.0  0.718750     ga     2\n",
       "102   177.0  0.691406     ga     2\n",
       "103   189.0  0.738281     ga     2\n",
       "104   176.0  0.687500     ga     2\n",
       "..      ...       ...    ...   ...\n",
       "295   192.0  0.750000     ht     2\n",
       "296   192.0  0.750000     ht     2\n",
       "297   189.0  0.738281     ht     2\n",
       "298   190.0  0.742188     ht     2\n",
       "299   191.0  0.746094     ht     2\n",
       "\n",
       "[100 rows x 4 columns]"
      ]
     },
     "execution_count": 33,
     "metadata": {},
     "output_type": "execute_result"
    }
   ],
   "source": [
    "df[df['dist'] == 2]\n",
    "with open('dist2.json', 'w') as f:\n",
    "    "
   ]
  },
  {
   "cell_type": "code",
   "execution_count": 5,
   "metadata": {},
   "outputs": [],
   "source": [
    "trial_ga_d0 = df[(df['method'] == 'ga') & (df['dist'] == 0)]['score']\n",
    "trial_ga_d1 = df[(df['method'] == 'ga') & (df['dist'] == 1)]['score']\n",
    "trial_ga_d2 = df[(df['method'] == 'ga') & (df['dist'] == 2)]['score']\n",
    "\n",
    "trial_ht_d0 = df[(df['method'] == 'ht') & (df['dist'] == 0)]['score']\n",
    "trial_ht_d1 = df[(df['method'] == 'ht') & (df['dist'] == 1)]['score']\n",
    "trial_ht_d2 = df[(df['method'] == 'ht') & (df['dist'] == 2)]['score']"
   ]
  },
  {
   "cell_type": "code",
   "execution_count": 18,
   "metadata": {},
   "outputs": [
    {
     "data": {
      "text/plain": [
       "<matplotlib.legend.Legend at 0x1259f2ed0>"
      ]
     },
     "execution_count": 18,
     "metadata": {},
     "output_type": "execute_result"
    },
    {
     "data": {
      "image/png": "[encoded data removed]",
      "text/plain": [
       "<Figure size 432x288 with 1 Axes>"
      ]
     },
     "metadata": {
      "needs_background": "light"
     },
     "output_type": "display_data"
    }
   ],
   "source": [
    "fig1, ax1 = plt.subplots(nrows=1, ncols=1, figsize=(6, 4))\n",
    "# fig, axes = plt.subplots(nrows=1, ncols=2, figsize=(9, 4))\n",
    "meanlineprops = dict(linewidth=1, color='red')\n",
    "box_colors = ['darkkhaki', 'royalblue']\n",
    "ax1.set_title('Genetic Algoritm (GA) vs Hypertune (HT)', fontweight='bold',)\n",
    "plt.xlabel('Phenotype',  fontsize=12, labelpad=20,)\n",
    "plt.ylabel('Fitness Score', fontsize=12)\n",
    "boxplots = ax1.boxplot([trial_ga_d0, trial_ht_d0, trial_ga_d1, trial_ht_d1, trial_ga_d2, trial_ht_d2], \n",
    "                       patch_artist=True, notch=True, medianprops=meanlineprops)\n",
    "ax1.set_xticklabels(np.repeat([\"GA Uniform\", \"HT Uniform\", \"GA Cluster\", \"HT Cluster\", \"GA Power Law\", \"HP Power Law\"], 1),rotation=45, fontsize=10, ha=\"right\")\n",
    "\n",
    "colors = ['peachpuff', 'palegreen']\n",
    "\n",
    "\n",
    "\n",
    "# for patch, color in zip(axes['boxes'], colors):\n",
    "for index, patch in enumerate(boxplots['boxes']):\n",
    "    patch.set_label('hi')\n",
    "    patch.set_facecolor(colors[index % 2])\n",
    "\n",
    "ax1.legend([boxplots[\"boxes\"][0], boxplots[\"boxes\"][1]], ['Genetic Algorithm', 'HyperTune'], loc='lower left')\n",
    "\n"
   ]
  }
 ],
 "metadata": {
  "kernelspec": {
   "display_name": "Python 3",
   "language": "python",
   "name": "python3"
  },
  "language_info": {
   "codemirror_mode": {
    "name": "ipython",
    "version": 3
   },
   "file_extension": ".py",
   "mimetype": "text/x-python",
   "name": "python",
   "nbconvert_exporter": "python",
   "pygments_lexer": "ipython3",
   "version": "3.7.5"
  }
 },
 "nbformat": 4,
 "nbformat_minor": 2
}
