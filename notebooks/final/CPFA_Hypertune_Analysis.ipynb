{
 "cells": [
  {
   "cell_type": "code",
   "execution_count": 1,
   "metadata": {},
   "outputs": [],
   "source": [
    "import os, csv, json\n",
    "import pandas as pd\n",
    "import matplotlib.pyplot as plt\n",
    "import numpy as np\n",
    "import matplotlib\n",
    "matplotlib.rcParams['pdf.fonttype'] = 42\n",
    "matplotlib.rcParams['ps.fonttype'] = 42"
   ]
  },
  {
   "cell_type": "markdown",
   "metadata": {},
   "source": [
    "# CPFA Hypertune Study - Final Analysis"
   ]
  },
  {
   "cell_type": "markdown",
   "metadata": {},
   "source": [
    "### Data Ingest"
   ]
  },
  {
   "cell_type": "code",
   "execution_count": 2,
   "metadata": {},
   "outputs": [
    {
     "data": {
      "text/plain": [
       "['db_backup3.json', 'db_backup.json', 'db_backup2.json']"
      ]
     },
     "execution_count": 2,
     "metadata": {},
     "output_type": "execute_result"
    }
   ],
   "source": [
    "filenames = [f for f in os.listdir('../../data/raw') if f[-4:] == 'json']\n",
    "filenames"
   ]
  },
  {
   "cell_type": "markdown",
   "metadata": {},
   "source": [
    "###### trials to keep:\n",
    "cpfa_ht_trial_20191111_081725\n",
    "cpfa_ht_trial_20191111_080838\n",
    "cpfa_ht_trial_20191111_080831"
   ]
  },
  {
   "cell_type": "code",
   "execution_count": 3,
   "metadata": {},
   "outputs": [],
   "source": [
    "results = {}\n",
    "keeper_trials = {'cpfa_ht_trial_20191111_081725': [], \n",
    "                 'cpfa_ht_trial_20191111_080838': [], \n",
    "                 'cpfa_ht_trial_20191111_080831': []}\n",
    "\n",
    "for trial in keeper_trials:\n",
    "    for i in range(3001):\n",
    "        keeper_trials[trial].append({})"
   ]
  },
  {
   "cell_type": "markdown",
   "metadata": {},
   "source": [
    "sample object:\n",
    "```{\"logName\":\"projects/cpfa-hypertune/logs/master-replica-0\",\"resource\":{\"type\":\"ml_job\",\"labels\":{\"job_id\":\"cpfa_ht_trial_20191110_115124\",\"project_id\":\"cpfa-hypertune\",\"task_name\":\"master-replica-0\"}},\"jsonPayload\":{\"message\":\"food distribution 0\\n\",\"levelname\":\"INFO\"},\"timestamp\":\"2019-11-10 22:52:31.313637 UTC\",\"receiveTimestamp\":\"2019-11-10 22:52:35.761271 UTC\",\"severity\":\"INFO\",\"insertId\":\"5u96i6fa2o7si\",\"labels\":{\"compute_googleapis_com_resource_id\":\"3176392964891290663\",\"compute_googleapis_com_zone\":\"us-central1-a\",\"ml_googleapis_com_trial_id\":\"336\",\"compute_googleapis_com_resource_name\":\"cmle-training-805699422387418271\",\"ml_googleapis_com_job_id_log_area\":\"root\"}}```"
   ]
  },
  {
   "cell_type": "code",
   "execution_count": 4,
   "metadata": {},
   "outputs": [],
   "source": [
    "trialcount = 0;\n",
    "rowsList = []\n",
    "trials = []\n",
    "for file in filenames:\n",
    "    with open(os.path.join('../../data/raw', file)) as json_file:\n",
    "        for i, line in enumerate(json_file):\n",
    "            x = json.loads(line)\n",
    "            job_id = x['resource']['labels']['job_id']\n",
    "            trialId = int(x['labels']['ml_googleapis_com_trial_id'])\n",
    "            message = x['jsonPayload']['message']\n",
    "            if job_id in keeper_trials:\n",
    "                if 'trialId' not in keeper_trials[job_id][trialId]:\n",
    "                    keeper_trials[job_id][trialId]['trialId'] = trialId\n",
    "                if 'Fitness Score' in message:\n",
    "                    keeper_trials[job_id][trialId]['fitnessScore'] = float(message.split()[3])\n",
    "                if 'foodDist' not in keeper_trials[job_id][trialId] and 'food' in message:\n",
    "                    keeper_trials[job_id][trialId]['foodDist'] = float(message.split()[2])\n",
    "                if 'Fitness' in message:\n",
    "                    keeper_trials[job_id][trialId]['fitness'] = float(message.split()[3])\n",
    "                if 'RateOfLayingPheromone' in message:\n",
    "                    keeper_trials[job_id][trialId]['RateOfLayingPheromone'] = float(message.split()[1])\n",
    "                if 'ProbabilityOfSwitchingToSearching' in message:\n",
    "                    keeper_trials[job_id][trialId]['ProbabilityOfSwitchingToSearching'] = float(message.split()[1])\n",
    "                if 'ProbabilityOfReturningToNest' in message:\n",
    "                    keeper_trials[job_id][trialId]['ProbabilityOfReturningToNest'] = float(message.split()[1])\n",
    "                if 'RateOfInformedSearchDecay' in message:\n",
    "                    keeper_trials[job_id][trialId]['RateOfInformedSearchDecay'] = float(message.split()[1])\n",
    "                if ('RateOfSiteFidelity' in message):\n",
    "                    keeper_trials[job_id][trialId]['RateOfSiteFidelity'] = float(message.split()[1])\n",
    "                if ('RateOfPheromoneDecay' in message):\n",
    "                    keeper_trials[job_id][trialId]['RateOfPheromoneDecay'] = float(message.split()[1])\n",
    "                if ('UninformedSearchVariation' in message):\n",
    "                    keeper_trials[job_id][trialId]['UninformedSearchVariation'] = float(message.split()[1])\n",
    "            else:\n",
    "                pass"
   ]
  },
  {
   "cell_type": "markdown",
   "metadata": {},
   "source": [
    "### Write trials to CSV"
   ]
  },
  {
   "cell_type": "code",
   "execution_count": 5,
   "metadata": {},
   "outputs": [
    {
     "name": "stdout",
     "output_type": "stream",
     "text": [
      "2973\n",
      "2968\n",
      "2983\n"
     ]
    }
   ],
   "source": [
    "for trial in keeper_trials:\n",
    "    df = pd.DataFrame(keeper_trials[trial])\n",
    "    print(len(df.dropna()))\n",
    "    df.dropna().sort_values(by=['fitnessScore'], ascending=True).to_csv('{}.csv'.format(trial))"
   ]
  },
  {
   "cell_type": "code",
   "execution_count": 6,
   "metadata": {},
   "outputs": [
    {
     "ename": "KeyError",
     "evalue": "'dist'",
     "output_type": "error",
     "traceback": [
      "\u001b[0;31m---------------------------------------------------------------------------\u001b[0m",
      "\u001b[0;31mKeyError\u001b[0m                                  Traceback (most recent call last)",
      "\u001b[0;32m~/anaconda3/lib/python3.7/site-packages/pandas/core/indexes/base.py\u001b[0m in \u001b[0;36mget_loc\u001b[0;34m(self, key, method, tolerance)\u001b[0m\n\u001b[1;32m   2896\u001b[0m             \u001b[0;32mtry\u001b[0m\u001b[0;34m:\u001b[0m\u001b[0;34m\u001b[0m\u001b[0;34m\u001b[0m\u001b[0m\n\u001b[0;32m-> 2897\u001b[0;31m                 \u001b[0;32mreturn\u001b[0m \u001b[0mself\u001b[0m\u001b[0;34m.\u001b[0m\u001b[0m_engine\u001b[0m\u001b[0;34m.\u001b[0m\u001b[0mget_loc\u001b[0m\u001b[0;34m(\u001b[0m\u001b[0mkey\u001b[0m\u001b[0;34m)\u001b[0m\u001b[0;34m\u001b[0m\u001b[0;34m\u001b[0m\u001b[0m\n\u001b[0m\u001b[1;32m   2898\u001b[0m             \u001b[0;32mexcept\u001b[0m \u001b[0mKeyError\u001b[0m\u001b[0;34m:\u001b[0m\u001b[0;34m\u001b[0m\u001b[0;34m\u001b[0m\u001b[0m\n",
      "\u001b[0;32mpandas/_libs/index.pyx\u001b[0m in \u001b[0;36mpandas._libs.index.IndexEngine.get_loc\u001b[0;34m()\u001b[0m\n",
      "\u001b[0;32mpandas/_libs/index.pyx\u001b[0m in \u001b[0;36mpandas._libs.index.IndexEngine.get_loc\u001b[0;34m()\u001b[0m\n",
      "\u001b[0;32mpandas/_libs/hashtable_class_helper.pxi\u001b[0m in \u001b[0;36mpandas._libs.hashtable.PyObjectHashTable.get_item\u001b[0;34m()\u001b[0m\n",
      "\u001b[0;32mpandas/_libs/hashtable_class_helper.pxi\u001b[0m in \u001b[0;36mpandas._libs.hashtable.PyObjectHashTable.get_item\u001b[0;34m()\u001b[0m\n",
      "\u001b[0;31mKeyError\u001b[0m: 'dist'",
      "\nDuring handling of the above exception, another exception occurred:\n",
      "\u001b[0;31mKeyError\u001b[0m                                  Traceback (most recent call last)",
      "\u001b[0;32m<ipython-input-6-a05ebbf3fd65>\u001b[0m in \u001b[0;36m<module>\u001b[0;34m\u001b[0m\n\u001b[0;32m----> 1\u001b[0;31m \u001b[0mdf\u001b[0m\u001b[0;34m[\u001b[0m\u001b[0mdf\u001b[0m\u001b[0;34m[\u001b[0m\u001b[0;34m'dist'\u001b[0m\u001b[0;34m]\u001b[0m \u001b[0;34m==\u001b[0m \u001b[0;36m0\u001b[0m\u001b[0;34m]\u001b[0m\u001b[0;34m.\u001b[0m\u001b[0msort_values\u001b[0m\u001b[0;34m(\u001b[0m\u001b[0mby\u001b[0m\u001b[0;34m=\u001b[0m\u001b[0;34m[\u001b[0m\u001b[0;34m'score'\u001b[0m\u001b[0;34m]\u001b[0m\u001b[0;34m,\u001b[0m \u001b[0mascending\u001b[0m\u001b[0;34m=\u001b[0m\u001b[0;32mFalse\u001b[0m\u001b[0;34m)\u001b[0m\u001b[0;34m\u001b[0m\u001b[0;34m\u001b[0m\u001b[0m\n\u001b[0m",
      "\u001b[0;32m~/anaconda3/lib/python3.7/site-packages/pandas/core/frame.py\u001b[0m in \u001b[0;36m__getitem__\u001b[0;34m(self, key)\u001b[0m\n\u001b[1;32m   2993\u001b[0m             \u001b[0;32mif\u001b[0m \u001b[0mself\u001b[0m\u001b[0;34m.\u001b[0m\u001b[0mcolumns\u001b[0m\u001b[0;34m.\u001b[0m\u001b[0mnlevels\u001b[0m \u001b[0;34m>\u001b[0m \u001b[0;36m1\u001b[0m\u001b[0;34m:\u001b[0m\u001b[0;34m\u001b[0m\u001b[0;34m\u001b[0m\u001b[0m\n\u001b[1;32m   2994\u001b[0m                 \u001b[0;32mreturn\u001b[0m \u001b[0mself\u001b[0m\u001b[0;34m.\u001b[0m\u001b[0m_getitem_multilevel\u001b[0m\u001b[0;34m(\u001b[0m\u001b[0mkey\u001b[0m\u001b[0;34m)\u001b[0m\u001b[0;34m\u001b[0m\u001b[0;34m\u001b[0m\u001b[0m\n\u001b[0;32m-> 2995\u001b[0;31m             \u001b[0mindexer\u001b[0m \u001b[0;34m=\u001b[0m \u001b[0mself\u001b[0m\u001b[0;34m.\u001b[0m\u001b[0mcolumns\u001b[0m\u001b[0;34m.\u001b[0m\u001b[0mget_loc\u001b[0m\u001b[0;34m(\u001b[0m\u001b[0mkey\u001b[0m\u001b[0;34m)\u001b[0m\u001b[0;34m\u001b[0m\u001b[0;34m\u001b[0m\u001b[0m\n\u001b[0m\u001b[1;32m   2996\u001b[0m             \u001b[0;32mif\u001b[0m \u001b[0mis_integer\u001b[0m\u001b[0;34m(\u001b[0m\u001b[0mindexer\u001b[0m\u001b[0;34m)\u001b[0m\u001b[0;34m:\u001b[0m\u001b[0;34m\u001b[0m\u001b[0;34m\u001b[0m\u001b[0m\n\u001b[1;32m   2997\u001b[0m                 \u001b[0mindexer\u001b[0m \u001b[0;34m=\u001b[0m \u001b[0;34m[\u001b[0m\u001b[0mindexer\u001b[0m\u001b[0;34m]\u001b[0m\u001b[0;34m\u001b[0m\u001b[0;34m\u001b[0m\u001b[0m\n",
      "\u001b[0;32m~/anaconda3/lib/python3.7/site-packages/pandas/core/indexes/base.py\u001b[0m in \u001b[0;36mget_loc\u001b[0;34m(self, key, method, tolerance)\u001b[0m\n\u001b[1;32m   2897\u001b[0m                 \u001b[0;32mreturn\u001b[0m \u001b[0mself\u001b[0m\u001b[0;34m.\u001b[0m\u001b[0m_engine\u001b[0m\u001b[0;34m.\u001b[0m\u001b[0mget_loc\u001b[0m\u001b[0;34m(\u001b[0m\u001b[0mkey\u001b[0m\u001b[0;34m)\u001b[0m\u001b[0;34m\u001b[0m\u001b[0;34m\u001b[0m\u001b[0m\n\u001b[1;32m   2898\u001b[0m             \u001b[0;32mexcept\u001b[0m \u001b[0mKeyError\u001b[0m\u001b[0;34m:\u001b[0m\u001b[0;34m\u001b[0m\u001b[0;34m\u001b[0m\u001b[0m\n\u001b[0;32m-> 2899\u001b[0;31m                 \u001b[0;32mreturn\u001b[0m \u001b[0mself\u001b[0m\u001b[0;34m.\u001b[0m\u001b[0m_engine\u001b[0m\u001b[0;34m.\u001b[0m\u001b[0mget_loc\u001b[0m\u001b[0;34m(\u001b[0m\u001b[0mself\u001b[0m\u001b[0;34m.\u001b[0m\u001b[0m_maybe_cast_indexer\u001b[0m\u001b[0;34m(\u001b[0m\u001b[0mkey\u001b[0m\u001b[0;34m)\u001b[0m\u001b[0;34m)\u001b[0m\u001b[0;34m\u001b[0m\u001b[0;34m\u001b[0m\u001b[0m\n\u001b[0m\u001b[1;32m   2900\u001b[0m         \u001b[0mindexer\u001b[0m \u001b[0;34m=\u001b[0m \u001b[0mself\u001b[0m\u001b[0;34m.\u001b[0m\u001b[0mget_indexer\u001b[0m\u001b[0;34m(\u001b[0m\u001b[0;34m[\u001b[0m\u001b[0mkey\u001b[0m\u001b[0;34m]\u001b[0m\u001b[0;34m,\u001b[0m \u001b[0mmethod\u001b[0m\u001b[0;34m=\u001b[0m\u001b[0mmethod\u001b[0m\u001b[0;34m,\u001b[0m \u001b[0mtolerance\u001b[0m\u001b[0;34m=\u001b[0m\u001b[0mtolerance\u001b[0m\u001b[0;34m)\u001b[0m\u001b[0;34m\u001b[0m\u001b[0;34m\u001b[0m\u001b[0m\n\u001b[1;32m   2901\u001b[0m         \u001b[0;32mif\u001b[0m \u001b[0mindexer\u001b[0m\u001b[0;34m.\u001b[0m\u001b[0mndim\u001b[0m \u001b[0;34m>\u001b[0m \u001b[0;36m1\u001b[0m \u001b[0;32mor\u001b[0m \u001b[0mindexer\u001b[0m\u001b[0;34m.\u001b[0m\u001b[0msize\u001b[0m \u001b[0;34m>\u001b[0m \u001b[0;36m1\u001b[0m\u001b[0;34m:\u001b[0m\u001b[0;34m\u001b[0m\u001b[0;34m\u001b[0m\u001b[0m\n",
      "\u001b[0;32mpandas/_libs/index.pyx\u001b[0m in \u001b[0;36mpandas._libs.index.IndexEngine.get_loc\u001b[0;34m()\u001b[0m\n",
      "\u001b[0;32mpandas/_libs/index.pyx\u001b[0m in \u001b[0;36mpandas._libs.index.IndexEngine.get_loc\u001b[0;34m()\u001b[0m\n",
      "\u001b[0;32mpandas/_libs/hashtable_class_helper.pxi\u001b[0m in \u001b[0;36mpandas._libs.hashtable.PyObjectHashTable.get_item\u001b[0;34m()\u001b[0m\n",
      "\u001b[0;32mpandas/_libs/hashtable_class_helper.pxi\u001b[0m in \u001b[0;36mpandas._libs.hashtable.PyObjectHashTable.get_item\u001b[0;34m()\u001b[0m\n",
      "\u001b[0;31mKeyError\u001b[0m: 'dist'"
     ]
    }
   ],
   "source": [
    "df[df['dist'] == 0].sort_values(by=['score'], ascending=False)"
   ]
  },
  {
   "cell_type": "markdown",
   "metadata": {},
   "source": [
    "### Analysis"
   ]
  },
  {
   "cell_type": "code",
   "execution_count": 8,
   "metadata": {},
   "outputs": [],
   "source": [
    "df = pd.read_csv('../../data/parsed/docker_output_all.csv', skipinitialspace=True)"
   ]
  },
  {
   "cell_type": "code",
   "execution_count": 9,
   "metadata": {},
   "outputs": [
    {
     "data": {
      "text/plain": [
       "0      0\n",
       "1      0\n",
       "2      0\n",
       "3      0\n",
       "4      0\n",
       "      ..\n",
       "295    2\n",
       "296    2\n",
       "297    2\n",
       "298    2\n",
       "299    2\n",
       "Name: dist, Length: 300, dtype: int64"
      ]
     },
     "execution_count": 9,
     "metadata": {},
     "output_type": "execute_result"
    }
   ],
   "source": [
    "df['dist']"
   ]
  },
  {
   "cell_type": "code",
   "execution_count": 10,
   "metadata": {},
   "outputs": [],
   "source": [
    "trial_ga_d0 = df[(df['method'] == 'ga') & (df['dist'] == 0)]['score']\n",
    "trial_ga_d1 = df[(df['method'] == 'ga') & (df['dist'] == 1)]['score']\n",
    "trial_ga_d2 = df[(df['method'] == 'ga') & (df['dist'] == 2)]['score']\n",
    "\n",
    "trial_ht_d0 = df[(df['method'] == 'ht') & (df['dist'] == 0)]['score']\n",
    "trial_ht_d1 = df[(df['method'] == 'ht') & (df['dist'] == 1)]['score']\n",
    "trial_ht_d2 = df[(df['method'] == 'ht') & (df['dist'] == 2)]['score']"
   ]
  },
  {
   "cell_type": "code",
   "execution_count": 11,
   "metadata": {},
   "outputs": [
    {
     "data": {
      "text/plain": [
       "<matplotlib.legend.Legend at 0x11ae8be10>"
      ]
     },
     "execution_count": 11,
     "metadata": {},
     "output_type": "execute_result"
    },
    {
     "data": {
      "image/png": "[encoded data removed]",
      "text/plain": [
       "<Figure size 432x432 with 1 Axes>"
      ]
     },
     "metadata": {
      "needs_background": "light"
     },
     "output_type": "display_data"
    }
   ],
   "source": [
    "fig1, ax1 = plt.subplots(nrows=1, ncols=1, figsize=(6, 6))\n",
    "# fig, axes = plt.subplots(nrows=1, ncols=2, figsize=(9, 4))\n",
    "meanlineprops = dict(linewidth=1, color='red')\n",
    "box_colors = ['darkkhaki', 'royalblue']\n",
    "ax1.set_title('GA vs Hypertune on 3 food distributions')\n",
    "plt.xlabel('behavioral param set', fontweight='bold', fontsize=12, labelpad=20,)\n",
    "plt.ylabel('score', fontweight='bold', fontsize=12)\n",
    "boxplots = ax1.boxplot([trial_ga_d0, trial_ht_d0, trial_ga_d1, trial_ht_d1, trial_ga_d2, trial_ht_d2], \n",
    "                       patch_artist=True, notch=True, medianprops=meanlineprops)\n",
    "ax1.set_xticklabels(np.repeat([\"GA Uniform\", \"HyperTune Uniform\", \"GA Cluster\", \"HyperTune Cluster\", \"GA Power Law\", \"HyperTune Power Law\"], 1),rotation=45, fontsize=10, ha=\"right\")\n",
    "\n",
    "colors = ['peachpuff', 'palegreen']\n",
    "\n",
    "\n",
    "\n",
    "# for patch, color in zip(axes['boxes'], colors):\n",
    "for index, patch in enumerate(boxplots['boxes']):\n",
    "    patch.set_label('hi')\n",
    "    patch.set_facecolor(colors[index % 2])\n",
    "\n",
    "ax1.legend([boxplots[\"boxes\"][0], boxplots[\"boxes\"][1]], ['Genetic Algorithm', 'HyperTune'], loc='lower right')\n",
    "\n"
   ]
  },
  {
   "cell_type": "code",
   "execution_count": null,
   "metadata": {},
   "outputs": [],
   "source": []
  }
 ],
 "metadata": {
  "kernelspec": {
   "display_name": "Python 3",
   "language": "python",
   "name": "python3"
  },
  "language_info": {
   "codemirror_mode": {
    "name": "ipython",
    "version": 3
   },
   "file_extension": ".py",
   "mimetype": "text/x-python",
   "name": "python",
   "nbconvert_exporter": "python",
   "pygments_lexer": "ipython3",
   "version": "3.7.5"
  }
 },
 "nbformat": 4,
 "nbformat_minor": 2
}
